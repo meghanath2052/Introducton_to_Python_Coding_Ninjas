{
  "nbformat": 4,
  "nbformat_minor": 0,
  "metadata": {
    "colab": {
      "name": "02_FindXRaisedToPowerN.ipynb",
      "provenance": [],
      "authorship_tag": "ABX9TyOro1Pp5kMgwvu95DhkOE2r"
    },
    "kernelspec": {
      "name": "python3",
      "display_name": "Python 3"
    }
  },
  "cells": [
    {
      "cell_type": "code",
      "metadata": {
        "id": "C8OMszi2VQS3",
        "colab_type": "code",
        "colab": {
          "base_uri": "https://localhost:8080/",
          "height": 67
        },
        "outputId": "5f0e8f7e-89c0-4d9a-b212-e4e1ca2edb4a"
      },
      "source": [
        "x = int(input())\n",
        "n = int(input())\n",
        "res = x ** n\n",
        "print(res)"
      ],
      "execution_count": 1,
      "outputs": [
        {
          "output_type": "stream",
          "text": [
            "5\n",
            "2\n",
            "25\n"
          ],
          "name": "stdout"
        }
      ]
    }
  ]
}