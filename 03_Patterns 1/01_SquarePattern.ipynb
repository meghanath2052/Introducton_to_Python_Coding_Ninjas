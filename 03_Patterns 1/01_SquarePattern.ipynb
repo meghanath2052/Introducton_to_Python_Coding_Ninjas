{
  "nbformat": 4,
  "nbformat_minor": 0,
  "metadata": {
    "colab": {
      "name": "01_SquarePattern.ipynb",
      "provenance": [],
      "authorship_tag": "ABX9TyPNUai+JQR9u6SRDLg+Jmu7",
      "include_colab_link": true
    },
    "kernelspec": {
      "name": "python3",
      "display_name": "Python 3"
    }
  },
  "cells": [
    {
      "cell_type": "markdown",
      "metadata": {
        "id": "view-in-github",
        "colab_type": "text"
      },
      "source": [
        "<a href=\"https://colab.research.google.com/github/meghanath2052/Introducton_to_Python_Coding_Ninjas/blob/master/03_Patterns%201/01_SquarePattern.ipynb\" target=\"_parent\"><img src=\"https://colab.research.google.com/assets/colab-badge.svg\" alt=\"Open In Colab\"/></a>"
      ]
    },
    {
      "cell_type": "code",
      "metadata": {
        "id": "pX_kSXukjIfg",
        "colab_type": "code",
        "colab": {
          "base_uri": "https://localhost:8080/",
          "height": 134
        },
        "outputId": "3e0ec6e3-dab8-4537-d195-bcd3d3e7b3ad"
      },
      "source": [
        "n = int(input())\n",
        "i = 1\n",
        "while i <= n:\n",
        "    j = 1\n",
        "    while j <= n:\n",
        "        print(n, end = '')\n",
        "        j = j + 1\n",
        "    print()\n",
        "    i = i + 1"
      ],
      "execution_count": 1,
      "outputs": [
        {
          "output_type": "stream",
          "text": [
            "6\n",
            "666666\n",
            "666666\n",
            "666666\n",
            "666666\n",
            "666666\n",
            "666666\n"
          ],
          "name": "stdout"
        }
      ]
    }
  ]
}