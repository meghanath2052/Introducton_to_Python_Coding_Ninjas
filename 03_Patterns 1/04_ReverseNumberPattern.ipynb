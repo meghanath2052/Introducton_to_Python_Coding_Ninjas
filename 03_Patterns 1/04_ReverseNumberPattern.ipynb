{
  "nbformat": 4,
  "nbformat_minor": 0,
  "metadata": {
    "colab": {
      "name": "04_ReverseNumberPattern.ipynb",
      "provenance": [],
      "authorship_tag": "ABX9TyPQPmXNHGW+oCJM/NshsgH8",
      "include_colab_link": true
    },
    "kernelspec": {
      "name": "python3",
      "display_name": "Python 3"
    }
  },
  "cells": [
    {
      "cell_type": "markdown",
      "metadata": {
        "id": "view-in-github",
        "colab_type": "text"
      },
      "source": [
        "<a href=\"https://colab.research.google.com/github/meghanath2052/Introducton_to_Python_Coding_Ninjas/blob/master/03_Patterns%201/04_ReverseNumberPattern.ipynb\" target=\"_parent\"><img src=\"https://colab.research.google.com/assets/colab-badge.svg\" alt=\"Open In Colab\"/></a>"
      ]
    },
    {
      "cell_type": "code",
      "metadata": {
        "id": "pX_kSXukjIfg",
        "colab_type": "code",
        "colab": {
          "base_uri": "https://localhost:8080/",
          "height": 134
        },
        "outputId": "e948c71a-f9d7-4f6a-cfe8-a7e1f74a557b"
      },
      "source": [
        "lastNumber = int(input())\n",
        "for row in range(1, lastNumber+1):\n",
        "    for column in range(row, 0, -1):\n",
        "        print(column, end='')\n",
        "    print(\"\")"
      ],
      "execution_count": 1,
      "outputs": [
        {
          "output_type": "stream",
          "text": [
            "6\n",
            "1\n",
            "21\n",
            "321\n",
            "4321\n",
            "54321\n",
            "654321\n"
          ],
          "name": "stdout"
        }
      ]
    }
  ]
}