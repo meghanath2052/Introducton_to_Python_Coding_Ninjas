{
  "nbformat": 4,
  "nbformat_minor": 0,
  "metadata": {
    "colab": {
      "name": "09_NumberPattern3.ipynb",
      "provenance": [],
      "authorship_tag": "ABX9TyOhIAzhW4CuyzZcgG/c9oGQ",
      "include_colab_link": true
    },
    "kernelspec": {
      "name": "python3",
      "display_name": "Python 3"
    }
  },
  "cells": [
    {
      "cell_type": "markdown",
      "metadata": {
        "id": "view-in-github",
        "colab_type": "text"
      },
      "source": [
        "<a href=\"https://colab.research.google.com/github/meghanath2052/Introducton_to_Python_Coding_Ninjas/blob/master/03_Patterns%201/09_NumberPattern3.ipynb\" target=\"_parent\"><img src=\"https://colab.research.google.com/assets/colab-badge.svg\" alt=\"Open In Colab\"/></a>"
      ]
    },
    {
      "cell_type": "code",
      "metadata": {
        "id": "pX_kSXukjIfg",
        "colab_type": "code",
        "colab": {
          "base_uri": "https://localhost:8080/",
          "height": 202
        },
        "outputId": "15e51d1f-c70f-4b43-cf2b-405ac495c761"
      },
      "source": [
        "n=int(input())\n",
        "\n",
        "if n != 0:\n",
        "    print(1)\n",
        "i=1\n",
        "while(i<n):\n",
        "    j=0\n",
        "    while(j<i+1):\n",
        "        if(j==0 or j==i):\n",
        "            print(1,end=\"\")\n",
        "        else:\n",
        "            print(2,end=\"\")\n",
        "        j=j+1\n",
        "    i=i+1\n",
        "    print()"
      ],
      "execution_count": 1,
      "outputs": [
        {
          "output_type": "stream",
          "text": [
            "10\n",
            "1\n",
            "11\n",
            "121\n",
            "1221\n",
            "12221\n",
            "122221\n",
            "1222221\n",
            "12222221\n",
            "122222221\n",
            "1222222221\n"
          ],
          "name": "stdout"
        }
      ]
    }
  ]
}