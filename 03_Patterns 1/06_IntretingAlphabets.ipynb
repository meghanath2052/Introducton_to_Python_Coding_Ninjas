{
  "nbformat": 4,
  "nbformat_minor": 0,
  "metadata": {
    "colab": {
      "name": "06_IntretingAlphabets.ipynb",
      "provenance": [],
      "authorship_tag": "ABX9TyO/KRv6ESErIqwwcfGcGYJs",
      "include_colab_link": true
    },
    "kernelspec": {
      "name": "python3",
      "display_name": "Python 3"
    }
  },
  "cells": [
    {
      "cell_type": "markdown",
      "metadata": {
        "id": "view-in-github",
        "colab_type": "text"
      },
      "source": [
        "<a href=\"https://colab.research.google.com/github/meghanath2052/Introducton_to_Python_Coding_Ninjas/blob/master/03_Patterns%201/06_IntretingAlphabets.ipynb\" target=\"_parent\"><img src=\"https://colab.research.google.com/assets/colab-badge.svg\" alt=\"Open In Colab\"/></a>"
      ]
    },
    {
      "cell_type": "code",
      "metadata": {
        "id": "pX_kSXukjIfg",
        "colab_type": "code",
        "colab": {
          "base_uri": "https://localhost:8080/",
          "height": 118
        },
        "outputId": "4e9ef418-c9bb-4d7d-b4c1-9e51734b8f1a"
      },
      "source": [
        "n=int(input())\n",
        "for i in range(n,0,-1):\n",
        "    for j in range(i,n+1):\n",
        "        print(chr(j+64),end=\"\")\n",
        "    print(\"\")"
      ],
      "execution_count": 1,
      "outputs": [
        {
          "output_type": "stream",
          "text": [
            "5\n",
            "E\n",
            "DE\n",
            "CDE\n",
            "BCDE\n",
            "ABCDE\n"
          ],
          "name": "stdout"
        }
      ]
    }
  ]
}