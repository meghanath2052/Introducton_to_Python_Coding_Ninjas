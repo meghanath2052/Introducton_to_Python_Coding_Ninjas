{
  "nbformat": 4,
  "nbformat_minor": 0,
  "metadata": {
    "colab": {
      "name": "10_NumberPattern4.ipynb",
      "provenance": [],
      "authorship_tag": "ABX9TyODwhlNerM8QNtoXfnl4uMf",
      "include_colab_link": true
    },
    "kernelspec": {
      "name": "python3",
      "display_name": "Python 3"
    }
  },
  "cells": [
    {
      "cell_type": "markdown",
      "metadata": {
        "id": "view-in-github",
        "colab_type": "text"
      },
      "source": [
        "<a href=\"https://colab.research.google.com/github/meghanath2052/Introducton_to_Python_Coding_Ninjas/blob/master/03_Patterns%201/10_NumberPattern4.ipynb\" target=\"_parent\"><img src=\"https://colab.research.google.com/assets/colab-badge.svg\" alt=\"Open In Colab\"/></a>"
      ]
    },
    {
      "cell_type": "code",
      "metadata": {
        "id": "pX_kSXukjIfg",
        "colab_type": "code",
        "colab": {
          "base_uri": "https://localhost:8080/",
          "height": 202
        },
        "outputId": "bb23a1fd-88a5-4f82-96cf-e08827dfcca0"
      },
      "source": [
        "n=int(input())\n",
        "i=0\n",
        "while(i<n):\n",
        "    j=1\n",
        "    while ( j < n-i+1):\n",
        "        print(j,end='')\n",
        "        j=j+1\n",
        "    i=i+1\n",
        "    print()"
      ],
      "execution_count": 1,
      "outputs": [
        {
          "output_type": "stream",
          "text": [
            "10\n",
            "12345678910\n",
            "123456789\n",
            "12345678\n",
            "1234567\n",
            "123456\n",
            "12345\n",
            "1234\n",
            "123\n",
            "12\n",
            "1\n"
          ],
          "name": "stdout"
        }
      ]
    }
  ]
}