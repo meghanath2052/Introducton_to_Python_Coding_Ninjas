{
  "nbformat": 4,
  "nbformat_minor": 0,
  "metadata": {
    "colab": {
      "name": "08_NumberPattern2.ipynb",
      "provenance": [],
      "authorship_tag": "ABX9TyNdY0N1jbaR0dIwm6f853d4",
      "include_colab_link": true
    },
    "kernelspec": {
      "name": "python3",
      "display_name": "Python 3"
    }
  },
  "cells": [
    {
      "cell_type": "markdown",
      "metadata": {
        "id": "view-in-github",
        "colab_type": "text"
      },
      "source": [
        "<a href=\"https://colab.research.google.com/github/meghanath2052/Introducton_to_Python_Coding_Ninjas/blob/master/03_Patterns%201/08_NumberPattern2.ipynb\" target=\"_parent\"><img src=\"https://colab.research.google.com/assets/colab-badge.svg\" alt=\"Open In Colab\"/></a>"
      ]
    },
    {
      "cell_type": "code",
      "metadata": {
        "id": "pX_kSXukjIfg",
        "colab_type": "code",
        "colab": {
          "base_uri": "https://localhost:8080/",
          "height": 202
        },
        "outputId": "57417432-7c6c-4432-f671-56763c1ebcb1"
      },
      "source": [
        "n=int(input())\n",
        "print(1)\n",
        "i=1\n",
        "while(i<n):\n",
        "    j=0\n",
        "    while(j<i+1):\n",
        "        if(j==0 or j==i):\n",
        "            print(i,end=\"\")\n",
        "        else:\n",
        "            print(0,end=\"\")\n",
        "        j=j+1\n",
        "    i=i+1\n",
        "    print()"
      ],
      "execution_count": 1,
      "outputs": [
        {
          "output_type": "stream",
          "text": [
            "10\n",
            "1\n",
            "11\n",
            "202\n",
            "3003\n",
            "40004\n",
            "500005\n",
            "6000006\n",
            "70000007\n",
            "800000008\n",
            "9000000009\n"
          ],
          "name": "stdout"
        }
      ]
    }
  ]
}