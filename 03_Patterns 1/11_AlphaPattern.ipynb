{
  "nbformat": 4,
  "nbformat_minor": 0,
  "metadata": {
    "colab": {
      "name": "11_AlphaPattern.ipynb",
      "provenance": [],
      "authorship_tag": "ABX9TyPjxiIEt53hE/d/5kHPbFjK",
      "include_colab_link": true
    },
    "kernelspec": {
      "name": "python3",
      "display_name": "Python 3"
    }
  },
  "cells": [
    {
      "cell_type": "markdown",
      "metadata": {
        "id": "view-in-github",
        "colab_type": "text"
      },
      "source": [
        "<a href=\"https://colab.research.google.com/github/meghanath2052/Introducton_to_Python_Coding_Ninjas/blob/master/03_Patterns%201/11_AlphaPattern.ipynb\" target=\"_parent\"><img src=\"https://colab.research.google.com/assets/colab-badge.svg\" alt=\"Open In Colab\"/></a>"
      ]
    },
    {
      "cell_type": "code",
      "metadata": {
        "id": "pX_kSXukjIfg",
        "colab_type": "code",
        "colab": {
          "base_uri": "https://localhost:8080/",
          "height": 202
        },
        "outputId": "8b4ac03d-4911-4b66-a3b4-3c77d7789dd6"
      },
      "source": [
        "n=int(input())\n",
        "for i in range(65,65 + n):\n",
        "    for j in range(65,i+1):\n",
        "        print(chr(i),end='')\n",
        "    print(\"\")"
      ],
      "execution_count": 1,
      "outputs": [
        {
          "output_type": "stream",
          "text": [
            "10\n",
            "A\n",
            "BB\n",
            "CCC\n",
            "DDDD\n",
            "EEEEE\n",
            "FFFFFF\n",
            "GGGGGGG\n",
            "HHHHHHHH\n",
            "IIIIIIIII\n",
            "JJJJJJJJJJ\n"
          ],
          "name": "stdout"
        }
      ]
    }
  ]
}