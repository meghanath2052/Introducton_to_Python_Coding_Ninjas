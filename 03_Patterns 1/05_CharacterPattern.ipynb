{
  "nbformat": 4,
  "nbformat_minor": 0,
  "metadata": {
    "colab": {
      "name": "05_CharacterPattern.ipynb",
      "provenance": [],
      "authorship_tag": "ABX9TyM9uOeXZL6FHUZWPzDeCyva",
      "include_colab_link": true
    },
    "kernelspec": {
      "name": "python3",
      "display_name": "Python 3"
    }
  },
  "cells": [
    {
      "cell_type": "markdown",
      "metadata": {
        "id": "view-in-github",
        "colab_type": "text"
      },
      "source": [
        "<a href=\"https://colab.research.google.com/github/meghanath2052/Introducton_to_Python_Coding_Ninjas/blob/master/03_Patterns%201/05_CharacterPattern.ipynb\" target=\"_parent\"><img src=\"https://colab.research.google.com/assets/colab-badge.svg\" alt=\"Open In Colab\"/></a>"
      ]
    },
    {
      "cell_type": "code",
      "metadata": {
        "id": "pX_kSXukjIfg",
        "colab_type": "code",
        "colab": {
          "base_uri": "https://localhost:8080/",
          "height": 101
        },
        "outputId": "818df64e-7b9d-4eb3-de1c-5e25488ac7bd"
      },
      "source": [
        "n=int(input())\n",
        "currRow=1\n",
        "while currRow <=n:\n",
        "    currCol=1\n",
        "    ch=ord('A') + currRow-1\n",
        "    while currCol <= currRow:\n",
        "        print(chr(ch + currCol - 1),end=\"\")\n",
        "        currCol +=1\n",
        "    print()\n",
        "    currRow+=1"
      ],
      "execution_count": 1,
      "outputs": [
        {
          "output_type": "stream",
          "text": [
            "4\n",
            "A\n",
            "BC\n",
            "CDE\n",
            "DEFG\n"
          ],
          "name": "stdout"
        }
      ]
    }
  ]
}