{
  "nbformat": 4,
  "nbformat_minor": 0,
  "metadata": {
    "colab": {
      "name": "02_MirrorNumberPattern.ipynb",
      "provenance": [],
      "authorship_tag": "ABX9TyPSkZpYh1aJUm3OfmZ9slTf",
      "include_colab_link": true
    },
    "kernelspec": {
      "name": "python3",
      "display_name": "Python 3"
    }
  },
  "cells": [
    {
      "cell_type": "markdown",
      "metadata": {
        "id": "view-in-github",
        "colab_type": "text"
      },
      "source": [
        "<a href=\"https://colab.research.google.com/github/meghanath2052/Introducton_to_Python_Coding_Ninjas/blob/master/04_Patterns%202/02_MirrorNumberPattern.ipynb\" target=\"_parent\"><img src=\"https://colab.research.google.com/assets/colab-badge.svg\" alt=\"Open In Colab\"/></a>"
      ]
    },
    {
      "cell_type": "code",
      "metadata": {
        "id": "pX_kSXukjIfg",
        "colab_type": "code",
        "colab": {
          "base_uri": "https://localhost:8080/",
          "height": 202
        },
        "outputId": "3c5d8ffb-66a1-480c-bd5c-fc6150ac75f2"
      },
      "source": [
        "n = int(input())\n",
        "i = 1\n",
        "while i <= n:\n",
        "    spaces = 1\n",
        "    while spaces <= n - i:\n",
        "        print(\" \", end = \"\")\n",
        "        spaces = spaces + 1\n",
        "    number = 1\n",
        "    while number <= i:\n",
        "        print(number, end = \"\")\n",
        "        number = number + 1\n",
        "    print()\n",
        "    i = i + 1"
      ],
      "execution_count": 1,
      "outputs": [
        {
          "output_type": "stream",
          "text": [
            "10\n",
            "         1\n",
            "        12\n",
            "       123\n",
            "      1234\n",
            "     12345\n",
            "    123456\n",
            "   1234567\n",
            "  12345678\n",
            " 123456789\n",
            "12345678910\n"
          ],
          "name": "stdout"
        }
      ]
    }
  ]
}