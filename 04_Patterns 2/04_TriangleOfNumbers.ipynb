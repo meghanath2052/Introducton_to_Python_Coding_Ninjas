{
  "nbformat": 4,
  "nbformat_minor": 0,
  "metadata": {
    "colab": {
      "name": "04_TriangleOfNumbers.ipynb",
      "provenance": [],
      "authorship_tag": "ABX9TyP5jhp1eEWYHexITVWatHWu",
      "include_colab_link": true
    },
    "kernelspec": {
      "name": "python3",
      "display_name": "Python 3"
    }
  },
  "cells": [
    {
      "cell_type": "markdown",
      "metadata": {
        "id": "view-in-github",
        "colab_type": "text"
      },
      "source": [
        "<a href=\"https://colab.research.google.com/github/meghanath2052/Introducton_to_Python_Coding_Ninjas/blob/master/04_Patterns%202/04_TriangleOfNumbers.ipynb\" target=\"_parent\"><img src=\"https://colab.research.google.com/assets/colab-badge.svg\" alt=\"Open In Colab\"/></a>"
      ]
    },
    {
      "cell_type": "code",
      "metadata": {
        "id": "pX_kSXukjIfg",
        "colab_type": "code",
        "colab": {
          "base_uri": "https://localhost:8080/",
          "height": 118
        },
        "outputId": "4cccd139-a5fc-4fd0-e8f4-3b50ac156c5b"
      },
      "source": [
        "n = int(input())\n",
        "currRow = 1\n",
        "while currRow <= n:\n",
        "    spaces = 1\n",
        "    while spaces <= (n - currRow) :\n",
        "        print(\" \", end = \"\")\n",
        "        spaces += 1\n",
        "    currCol = 1\n",
        "    valToPrint = currRow\n",
        "    while currCol <= currRow :\n",
        "        print(valToPrint, end = \"\")\n",
        "        valToPrint += 1\n",
        "        currCol += 1\n",
        "    currCol = 1\n",
        "    valToPrint = 2 * currRow - 2 \n",
        "    while currCol <= currRow - 1 :\n",
        "        print(valToPrint, end = \"\")\n",
        "        valToPrint -= 1\n",
        "        currCol += 1 \n",
        "    print()\n",
        "    currRow += 1"
      ],
      "execution_count": 1,
      "outputs": [
        {
          "output_type": "stream",
          "text": [
            "5\n",
            "    1\n",
            "   232\n",
            "  34543\n",
            " 4567654\n",
            "567898765\n"
          ],
          "name": "stdout"
        }
      ]
    }
  ]
}