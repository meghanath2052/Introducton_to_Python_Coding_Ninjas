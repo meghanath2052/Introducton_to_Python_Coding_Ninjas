{
  "nbformat": 4,
  "nbformat_minor": 0,
  "metadata": {
    "colab": {
      "name": "06_ZerosAndStarPattern.ipynb",
      "provenance": [],
      "authorship_tag": "ABX9TyPJ29f95DvIn+c+mGftNGPc",
      "include_colab_link": true
    },
    "kernelspec": {
      "name": "python3",
      "display_name": "Python 3"
    }
  },
  "cells": [
    {
      "cell_type": "markdown",
      "metadata": {
        "id": "view-in-github",
        "colab_type": "text"
      },
      "source": [
        "<a href=\"https://colab.research.google.com/github/meghanath2052/Introducton_to_Python_Coding_Ninjas/blob/master/04_Patterns%202/06_ZerosAndStarPattern.ipynb\" target=\"_parent\"><img src=\"https://colab.research.google.com/assets/colab-badge.svg\" alt=\"Open In Colab\"/></a>"
      ]
    },
    {
      "cell_type": "code",
      "metadata": {
        "id": "pX_kSXukjIfg",
        "colab_type": "code",
        "colab": {
          "base_uri": "https://localhost:8080/",
          "height": 118
        },
        "outputId": "e5b19326-e799-43cd-9447-5df6e699640d"
      },
      "source": [
        "\n",
        "lines=int(input()) \n",
        "i=1  \n",
        "j=1  \n",
        "while i<=lines:  \n",
        "    j=1  \n",
        "    while j<=lines:      \n",
        "        if i==j:  \n",
        "            print(\"*\", end='', flush=True)  \n",
        "        else :  \n",
        "            print(\"0\", end='', flush=True)  \n",
        "        j=j+1  \n",
        "    j=j-1;  \n",
        "    print(\"*\", end='', flush=True)  \n",
        "    while j>=1:    \n",
        "        if i==j:  \n",
        "            print(\"*\", end='', flush=True)  \n",
        "        else :  \n",
        "            print(\"0\", end='', flush=True)  \n",
        "        j=j-1  \n",
        "    print(\"\");  \n",
        "    i=i+1"
      ],
      "execution_count": 1,
      "outputs": [
        {
          "output_type": "stream",
          "text": [
            "5\n",
            "*0000*0000*\n",
            "0*000*000*0\n",
            "00*00*00*00\n",
            "000*0*0*000\n",
            "0000***0000\n"
          ],
          "name": "stdout"
        }
      ]
    }
  ]
}