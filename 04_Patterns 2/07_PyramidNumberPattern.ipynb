{
  "nbformat": 4,
  "nbformat_minor": 0,
  "metadata": {
    "colab": {
      "name": "07_PyramidNumberPattern.ipynb",
      "provenance": [],
      "authorship_tag": "ABX9TyMcTPgadf1uzDyt+iHQxMsY",
      "include_colab_link": true
    },
    "kernelspec": {
      "name": "python3",
      "display_name": "Python 3"
    }
  },
  "cells": [
    {
      "cell_type": "markdown",
      "metadata": {
        "id": "view-in-github",
        "colab_type": "text"
      },
      "source": [
        "<a href=\"https://colab.research.google.com/github/meghanath2052/Introducton_to_Python_Coding_Ninjas/blob/master/04_Patterns%202/07_PyramidNumberPattern.ipynb\" target=\"_parent\"><img src=\"https://colab.research.google.com/assets/colab-badge.svg\" alt=\"Open In Colab\"/></a>"
      ]
    },
    {
      "cell_type": "code",
      "metadata": {
        "id": "pX_kSXukjIfg",
        "colab_type": "code",
        "colab": {
          "base_uri": "https://localhost:8080/",
          "height": 118
        },
        "outputId": "df039881-f935-40cc-c302-52215691594e"
      },
      "source": [
        "num=int(input())\n",
        "for i in range(1,num+1):\n",
        "    for j in range(1,num-i+1):\n",
        "        print(end=\" \")\n",
        "    for j in range(i,0,-1):\n",
        "        print(j,end=\"\")\n",
        "    for j in range(2,i+1):\n",
        "        print(j,end=\"\")\n",
        "    print()"
      ],
      "execution_count": 1,
      "outputs": [
        {
          "output_type": "stream",
          "text": [
            "5\n",
            "    1\n",
            "   212\n",
            "  32123\n",
            " 4321234\n",
            "543212345\n"
          ],
          "name": "stdout"
        }
      ]
    }
  ]
}