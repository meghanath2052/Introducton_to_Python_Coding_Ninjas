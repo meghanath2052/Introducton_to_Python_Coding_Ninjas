{
  "nbformat": 4,
  "nbformat_minor": 0,
  "metadata": {
    "colab": {
      "name": "01_InvertedNumberPattern.ipynb",
      "provenance": [],
      "authorship_tag": "ABX9TyNp0SCK5/+tkabfcKGdcT9Q",
      "include_colab_link": true
    },
    "kernelspec": {
      "name": "python3",
      "display_name": "Python 3"
    }
  },
  "cells": [
    {
      "cell_type": "markdown",
      "metadata": {
        "id": "view-in-github",
        "colab_type": "text"
      },
      "source": [
        "<a href=\"https://colab.research.google.com/github/meghanath2052/Introducton_to_Python_Coding_Ninjas/blob/master/04_Patterns%202/01_InvertedNumberPattern.ipynb\" target=\"_parent\"><img src=\"https://colab.research.google.com/assets/colab-badge.svg\" alt=\"Open In Colab\"/></a>"
      ]
    },
    {
      "cell_type": "code",
      "metadata": {
        "id": "pX_kSXukjIfg",
        "colab_type": "code",
        "colab": {
          "base_uri": "https://localhost:8080/",
          "height": 202
        },
        "outputId": "22d73d04-13c9-43df-b554-f7a82bfc76cc"
      },
      "source": [
        "n = int(input())\n",
        "i = 1\n",
        "while i <= n:\n",
        "    j = 1\n",
        "    while j <= n - i + 1:\n",
        "        print(n - i + 1, end = \"\")\n",
        "        j = j + 1\n",
        "    print()\n",
        "    i = i + 1"
      ],
      "execution_count": 1,
      "outputs": [
        {
          "output_type": "stream",
          "text": [
            "10\n",
            "10101010101010101010\n",
            "999999999\n",
            "88888888\n",
            "7777777\n",
            "666666\n",
            "55555\n",
            "4444\n",
            "333\n",
            "22\n",
            "1\n"
          ],
          "name": "stdout"
        }
      ]
    }
  ]
}