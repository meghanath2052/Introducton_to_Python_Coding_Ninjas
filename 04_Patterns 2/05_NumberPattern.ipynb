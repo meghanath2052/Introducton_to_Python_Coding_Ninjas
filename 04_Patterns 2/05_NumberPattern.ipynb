{
  "nbformat": 4,
  "nbformat_minor": 0,
  "metadata": {
    "colab": {
      "name": "05_NumberPattern.ipynb",
      "provenance": [],
      "authorship_tag": "ABX9TyMbKRbFmmKQSj4do92Ij1OI",
      "include_colab_link": true
    },
    "kernelspec": {
      "name": "python3",
      "display_name": "Python 3"
    }
  },
  "cells": [
    {
      "cell_type": "markdown",
      "metadata": {
        "id": "view-in-github",
        "colab_type": "text"
      },
      "source": [
        "<a href=\"https://colab.research.google.com/github/meghanath2052/Introducton_to_Python_Coding_Ninjas/blob/master/04_Patterns%202/05_NumberPattern.ipynb\" target=\"_parent\"><img src=\"https://colab.research.google.com/assets/colab-badge.svg\" alt=\"Open In Colab\"/></a>"
      ]
    },
    {
      "cell_type": "code",
      "metadata": {
        "id": "pX_kSXukjIfg",
        "colab_type": "code",
        "colab": {
          "base_uri": "https://localhost:8080/",
          "height": 118
        },
        "outputId": "546a3c74-36e5-4461-cc97-74f6e366d6a7"
      },
      "source": [
        "a=int(input())\n",
        "\n",
        "for k in range(1,a+1):\n",
        "    b='1'\n",
        "    for i in range(2,a+1):\n",
        "        c=str(i)\n",
        "        if k >= i:\n",
        "            b=b+c\n",
        "        else:\n",
        "            b=b+' '\n",
        "    for j in range(a,0,-1):\n",
        "        d=str(j)\n",
        "        if k >= j:\n",
        "            b=b+d\n",
        "        else:\n",
        "            b=b+' '\n",
        "    print(b)"
      ],
      "execution_count": 1,
      "outputs": [
        {
          "output_type": "stream",
          "text": [
            "5\n",
            "1        1\n",
            "12      21\n",
            "123    321\n",
            "1234  4321\n",
            "1234554321\n"
          ],
          "name": "stdout"
        }
      ]
    }
  ]
}