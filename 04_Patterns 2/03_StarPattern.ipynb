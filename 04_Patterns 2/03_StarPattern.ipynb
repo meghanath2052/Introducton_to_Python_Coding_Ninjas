{
  "nbformat": 4,
  "nbformat_minor": 0,
  "metadata": {
    "colab": {
      "name": "03_StarPattern.ipynb",
      "provenance": [],
      "authorship_tag": "ABX9TyO56I7BjSKBqzs3UaO79JfX",
      "include_colab_link": true
    },
    "kernelspec": {
      "name": "python3",
      "display_name": "Python 3"
    }
  },
  "cells": [
    {
      "cell_type": "markdown",
      "metadata": {
        "id": "view-in-github",
        "colab_type": "text"
      },
      "source": [
        "<a href=\"https://colab.research.google.com/github/meghanath2052/Introducton_to_Python_Coding_Ninjas/blob/master/04_Patterns%202/03_StarPattern.ipynb\" target=\"_parent\"><img src=\"https://colab.research.google.com/assets/colab-badge.svg\" alt=\"Open In Colab\"/></a>"
      ]
    },
    {
      "cell_type": "code",
      "metadata": {
        "id": "pX_kSXukjIfg",
        "colab_type": "code",
        "colab": {
          "base_uri": "https://localhost:8080/",
          "height": 202
        },
        "outputId": "8a5318db-2326-49cb-8a55-b27274574eca"
      },
      "source": [
        "n = int(input())\n",
        "i = 1\n",
        "while i <= n:\n",
        "    spaces = 1\n",
        "    while spaces <= n - i:\n",
        "        print(\" \", end = \"\")\n",
        "        spaces = spaces + 1\n",
        "    number = 1\n",
        "    while number <= i:\n",
        "        print(\"*\", end = \"\")\n",
        "        number = number + 1\n",
        "    decrease = i - 1\n",
        "    while decrease >= 1:\n",
        "        print(\"*\",  end = \"\")\n",
        "        decrease = decrease - 1\n",
        "    print()\n",
        "    i = i + 1"
      ],
      "execution_count": 1,
      "outputs": [
        {
          "output_type": "stream",
          "text": [
            "10\n",
            "         *\n",
            "        ***\n",
            "       *****\n",
            "      *******\n",
            "     *********\n",
            "    ***********\n",
            "   *************\n",
            "  ***************\n",
            " *****************\n",
            "*******************\n"
          ],
          "name": "stdout"
        }
      ]
    }
  ]
}