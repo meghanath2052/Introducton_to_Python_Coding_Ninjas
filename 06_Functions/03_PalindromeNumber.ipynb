{
  "nbformat": 4,
  "nbformat_minor": 0,
  "metadata": {
    "colab": {
      "name": "03_PalindromeNumber.ipynb",
      "provenance": [],
      "authorship_tag": "ABX9TyOKvsJGK/co5eR660Mvjubr",
      "include_colab_link": true
    },
    "kernelspec": {
      "name": "python3",
      "display_name": "Python 3"
    }
  },
  "cells": [
    {
      "cell_type": "markdown",
      "metadata": {
        "id": "view-in-github",
        "colab_type": "text"
      },
      "source": [
        "<a href=\"https://colab.research.google.com/github/meghanath2052/Introducton_to_Python_Coding_Ninjas/blob/master/06_Functions/03_PalindromeNumber.ipynb\" target=\"_parent\"><img src=\"https://colab.research.google.com/assets/colab-badge.svg\" alt=\"Open In Colab\"/></a>"
      ]
    },
    {
      "cell_type": "code",
      "metadata": {
        "id": "pX_kSXukjIfg",
        "colab_type": "code",
        "colab": {
          "base_uri": "https://localhost:8080/",
          "height": 50
        },
        "outputId": "e6eee98f-d9b1-4b82-baf3-95597fd032a2"
      },
      "source": [
        "def checkPalindrome(num):\n",
        "    numb=str(num)\n",
        "    temp=numb\n",
        "    if numb[::-1]==temp:\n",
        "        return 1\n",
        "    else:\n",
        "        return 0\n",
        "pass\n",
        "num = int(input())\n",
        "isPalindrome = checkPalindrome(num)\n",
        "if(isPalindrome):\n",
        "    print('true')\n",
        "else:\n",
        "    print('false')"
      ],
      "execution_count": 1,
      "outputs": [
        {
          "output_type": "stream",
          "text": [
            "1002001\n",
            "true\n"
          ],
          "name": "stdout"
        }
      ]
    }
  ]
}