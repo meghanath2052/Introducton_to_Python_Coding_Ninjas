{
  "nbformat": 4,
  "nbformat_minor": 0,
  "metadata": {
    "colab": {
      "name": "02_FibbonaciMember.ipynb",
      "provenance": [],
      "authorship_tag": "ABX9TyOnvG3h4wnw7wzTZw7OEGRj",
      "include_colab_link": true
    },
    "kernelspec": {
      "name": "python3",
      "display_name": "Python 3"
    }
  },
  "cells": [
    {
      "cell_type": "markdown",
      "metadata": {
        "id": "view-in-github",
        "colab_type": "text"
      },
      "source": [
        "<a href=\"https://colab.research.google.com/github/meghanath2052/Introducton_to_Python_Coding_Ninjas/blob/master/06_Functions/02_FibbonaciMember.ipynb\" target=\"_parent\"><img src=\"https://colab.research.google.com/assets/colab-badge.svg\" alt=\"Open In Colab\"/></a>"
      ]
    },
    {
      "cell_type": "code",
      "metadata": {
        "id": "pX_kSXukjIfg",
        "colab_type": "code",
        "colab": {
          "base_uri": "https://localhost:8080/",
          "height": 50
        },
        "outputId": "ff73d8ca-f18e-4759-966a-a5e50cb066c1"
      },
      "source": [
        "import math\n",
        "def isPerfectSquare(x): \n",
        "    s = int(math.sqrt(x)) \n",
        "    return s*s == x \n",
        "\n",
        "def checkMember(n):\n",
        "    return isPerfectSquare(5*n*n + 4) or isPerfectSquare(5*n*n - 4) \n",
        "pass\n",
        "\n",
        "n=int(input())\n",
        "if(checkMember(n)):\n",
        "    print(\"true\")\n",
        "else:\n",
        "    print(\"false\")"
      ],
      "execution_count": 1,
      "outputs": [
        {
          "output_type": "stream",
          "text": [
            "6\n",
            "false\n"
          ],
          "name": "stdout"
        }
      ]
    }
  ]
}