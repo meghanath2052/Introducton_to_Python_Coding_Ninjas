{
  "nbformat": 4,
  "nbformat_minor": 0,
  "metadata": {
    "colab": {
      "name": "01_FarenheitToCelsiusFunction.ipynb",
      "provenance": [],
      "authorship_tag": "ABX9TyO3bX7PEhiuPuWJ7x4mDRjP",
      "include_colab_link": true
    },
    "kernelspec": {
      "name": "python3",
      "display_name": "Python 3"
    }
  },
  "cells": [
    {
      "cell_type": "markdown",
      "metadata": {
        "id": "view-in-github",
        "colab_type": "text"
      },
      "source": [
        "<a href=\"https://colab.research.google.com/github/meghanath2052/Introducton_to_Python_Coding_Ninjas/blob/master/06_Functions/01_FarenheitToCelsiusFunction.ipynb\" target=\"_parent\"><img src=\"https://colab.research.google.com/assets/colab-badge.svg\" alt=\"Open In Colab\"/></a>"
      ]
    },
    {
      "cell_type": "code",
      "metadata": {
        "id": "pX_kSXukjIfg",
        "colab_type": "code",
        "colab": {
          "base_uri": "https://localhost:8080/",
          "height": 118
        },
        "outputId": "8374e05e-d898-40c3-cb5d-e95623ae0766"
      },
      "source": [
        "def printTable(start,end,step):\n",
        "    curr_temp = start\n",
        "    \n",
        "    while curr_temp <= end:\n",
        "        c = 5/9 * (curr_temp - 32)\n",
        "        print(curr_temp, \" \", int(c))\n",
        "        curr_temp = curr_temp + step\n",
        "    pass\n",
        "   \n",
        "s = int(input())\n",
        "e = int(input())\n",
        "step = int(input())\n",
        "printTable(s,e,step)\n",
        "\n"
      ],
      "execution_count": 1,
      "outputs": [
        {
          "output_type": "stream",
          "text": [
            "100\n",
            "200\n",
            "40\n",
            "100   37\n",
            "140   60\n",
            "180   82\n"
          ],
          "name": "stdout"
        }
      ]
    }
  ]
}