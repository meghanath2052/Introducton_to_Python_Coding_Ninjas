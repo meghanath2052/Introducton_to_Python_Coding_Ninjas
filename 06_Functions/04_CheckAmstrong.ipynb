{
  "nbformat": 4,
  "nbformat_minor": 0,
  "metadata": {
    "colab": {
      "name": "04_CheckAmstrong.ipynb",
      "provenance": [],
      "authorship_tag": "ABX9TyPtGO6424k2DDPK52hEDH5i",
      "include_colab_link": true
    },
    "kernelspec": {
      "name": "python3",
      "display_name": "Python 3"
    }
  },
  "cells": [
    {
      "cell_type": "markdown",
      "metadata": {
        "id": "view-in-github",
        "colab_type": "text"
      },
      "source": [
        "<a href=\"https://colab.research.google.com/github/meghanath2052/Introducton_to_Python_Coding_Ninjas/blob/master/06_Functions/04_CheckAmstrong.ipynb\" target=\"_parent\"><img src=\"https://colab.research.google.com/assets/colab-badge.svg\" alt=\"Open In Colab\"/></a>"
      ]
    },
    {
      "cell_type": "code",
      "metadata": {
        "id": "pX_kSXukjIfg",
        "colab_type": "code",
        "colab": {
          "base_uri": "https://localhost:8080/",
          "height": 50
        },
        "outputId": "66971e7a-073a-42c3-8cee-6d5fdf34476f"
      },
      "source": [
        "n = int(input())\n",
        "temp = n\n",
        "count = 0\n",
        "while temp > 0:\n",
        "    temp = temp//10\n",
        "    count = count + 1\n",
        "p = count\n",
        "sum = 0\n",
        "remainder = 0\n",
        "temp = n\n",
        "while temp > 0:\n",
        "    remainder = temp % 10\n",
        "    sum = sum + (remainder ** p)\n",
        "    temp = temp//10\n",
        "if sum == n:\n",
        "    print(\"true\")\n",
        "else:\n",
        "    print(\"false\")"
      ],
      "execution_count": 1,
      "outputs": [
        {
          "output_type": "stream",
          "text": [
            "371\n",
            "true\n"
          ],
          "name": "stdout"
        }
      ]
    }
  ]
}