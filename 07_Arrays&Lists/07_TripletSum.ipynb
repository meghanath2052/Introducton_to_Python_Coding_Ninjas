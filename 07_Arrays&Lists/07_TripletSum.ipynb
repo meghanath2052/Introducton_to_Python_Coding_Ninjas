{
  "nbformat": 4,
  "nbformat_minor": 0,
  "metadata": {
    "colab": {
      "name": "07_TripletSum.ipynb",
      "provenance": [],
      "authorship_tag": "ABX9TyPqts6p9phsRYl4zHSZS70s",
      "include_colab_link": true
    },
    "kernelspec": {
      "name": "python3",
      "display_name": "Python 3"
    }
  },
  "cells": [
    {
      "cell_type": "markdown",
      "metadata": {
        "id": "view-in-github",
        "colab_type": "text"
      },
      "source": [
        "<a href=\"https://colab.research.google.com/github/meghanath2052/Introducton_to_Python_Coding_Ninjas/blob/master/07_Arrays%26Lists/07_TripletSum.ipynb\" target=\"_parent\"><img src=\"https://colab.research.google.com/assets/colab-badge.svg\" alt=\"Open In Colab\"/></a>"
      ]
    },
    {
      "cell_type": "code",
      "metadata": {
        "id": "uI2u-YMlgVVU",
        "colab_type": "code",
        "colab": {}
      },
      "source": [
        "from sys import stdin \n",
        "def findTriplet(arr, n, x) :\n",
        "    numTriplets = 0 \n",
        "    for i in range(n) : \n",
        "        for j in range((i + 1), n) :\n",
        "            for k in range((j + 1), n) : \n",
        "                if (arr[i] + arr[j] + arr[k]) == x :\n",
        "                    numTriplets += 1 \n",
        "    return numTriplets \n",
        "def takeInput() :\n",
        "    n = int(input())\n",
        "    if n == 0 : \n",
        "        return list(), 0\n",
        "    arr = list(map(int, input().strip().split(\" \")))\n",
        "    return arr, n \n",
        "t = int(input().strip())\n",
        "while t > 0 :\n",
        "    arr, n = takeInput()\n",
        "    x = int(input().strip()) \n",
        "    print(findTriplet(arr, n, x))\n",
        "    \n",
        "    t -= 1\n"
      ],
      "execution_count": null,
      "outputs": []
    }
  ]
}