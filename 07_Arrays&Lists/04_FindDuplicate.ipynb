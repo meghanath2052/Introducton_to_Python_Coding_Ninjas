{
  "nbformat": 4,
  "nbformat_minor": 0,
  "metadata": {
    "colab": {
      "name": "04_FindDuplicate.ipynb",
      "provenance": [],
      "authorship_tag": "ABX9TyN/ybiqqHZWHUgZm7EiYzar",
      "include_colab_link": true
    },
    "kernelspec": {
      "name": "python3",
      "display_name": "Python 3"
    }
  },
  "cells": [
    {
      "cell_type": "markdown",
      "metadata": {
        "id": "view-in-github",
        "colab_type": "text"
      },
      "source": [
        "<a href=\"https://colab.research.google.com/github/meghanath2052/Introducton_to_Python_Coding_Ninjas/blob/master/07_Arrays%26Lists/04_FindDuplicate.ipynb\" target=\"_parent\"><img src=\"https://colab.research.google.com/assets/colab-badge.svg\" alt=\"Open In Colab\"/></a>"
      ]
    },
    {
      "cell_type": "code",
      "metadata": {
        "id": "uI2u-YMlgVVU",
        "colab_type": "code",
        "colab": {
          "base_uri": "https://localhost:8080/",
          "height": 84
        },
        "outputId": "c873f6ba-17f8-4b43-d2f8-b0437356144e"
      },
      "source": [
        "import sys\n",
        "def duplicateNumber(arr, size) :\n",
        "    for i in range(size - 1) :\n",
        "        for j in range((i + 1), size) :\n",
        "            if arr[i] == arr[j] :\n",
        "                return arr[i] \n",
        "def takeInput() :\n",
        "    n = int(input()) \n",
        "    if n == 0 :\n",
        "        return list(), 0\n",
        "    arr = list(map(int, input().strip().split())) \n",
        "    return arr, n\n",
        "t = int(input()) \n",
        "while t > 0 :\n",
        "    arr, n = takeInput()\n",
        "    print(duplicateNumber(arr, n))\n",
        "    \n",
        "    t -= 1\n"
      ],
      "execution_count": 1,
      "outputs": [
        {
          "output_type": "stream",
          "text": [
            "1\n",
            "9\n",
            "0 7 2 5 4 7 1 3 6\n",
            "7\n"
          ],
          "name": "stdout"
        }
      ]
    }
  ]
}