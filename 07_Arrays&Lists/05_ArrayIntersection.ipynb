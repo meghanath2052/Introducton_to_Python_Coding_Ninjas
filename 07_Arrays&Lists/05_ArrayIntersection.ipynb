{
  "nbformat": 4,
  "nbformat_minor": 0,
  "metadata": {
    "colab": {
      "name": "05_ArrayIntersection.ipynb",
      "provenance": [],
      "authorship_tag": "ABX9TyPIIKVXT2Oeai1Yf95Q9b+X",
      "include_colab_link": true
    },
    "kernelspec": {
      "name": "python3",
      "display_name": "Python 3"
    }
  },
  "cells": [
    {
      "cell_type": "markdown",
      "metadata": {
        "id": "view-in-github",
        "colab_type": "text"
      },
      "source": [
        "<a href=\"https://colab.research.google.com/github/meghanath2052/Introducton_to_Python_Coding_Ninjas/blob/master/07_Arrays%26Lists/05_ArrayIntersection.ipynb\" target=\"_parent\"><img src=\"https://colab.research.google.com/assets/colab-badge.svg\" alt=\"Open In Colab\"/></a>"
      ]
    },
    {
      "cell_type": "code",
      "metadata": {
        "id": "uI2u-YMlgVVU",
        "colab_type": "code",
        "colab": {}
      },
      "source": [
        "import sys\n",
        "\n",
        "def intersections(arr1, n, arr2, m) :\n",
        "    for i in range (0, n):\n",
        "        for j in range (0, m):\n",
        "            if(arr1[i] == arr2[j]):\n",
        "                print(arr1[i], end= \" \")\n",
        "                arr2[j] = -1\n",
        "                break\n",
        "\n",
        "#Taking Input Using Fast I/O\n",
        "def takeInput() :\n",
        "    n = int(sys.stdin.readline().strip())\n",
        "    if n == 0:\n",
        "        return list(), 0\n",
        "\n",
        "    arr = list(map(int, sys.stdin.readline().strip().split(\" \")))\n",
        "    return arr, n\n",
        "\n",
        "#main\n",
        "t = int(sys.stdin.readline().strip())\n",
        "\n",
        "while t > 0 :\n",
        "    arr1, n = takeInput()\n",
        "    arr2, m = takeInput()\n",
        "\n",
        "    intersections(arr1, n, arr2, m)\n",
        "    print()\n",
        "\n",
        "    t -= 1"
      ],
      "execution_count": null,
      "outputs": []
    }
  ]
}