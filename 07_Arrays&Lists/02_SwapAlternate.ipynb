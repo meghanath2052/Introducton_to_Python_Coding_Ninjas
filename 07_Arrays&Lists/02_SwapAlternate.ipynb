{
  "nbformat": 4,
  "nbformat_minor": 0,
  "metadata": {
    "colab": {
      "name": "02_SwapAlternate.ipynb",
      "provenance": [],
      "authorship_tag": "ABX9TyPbzsaeTCn6WZMLY9T4LWqA",
      "include_colab_link": true
    },
    "kernelspec": {
      "name": "python3",
      "display_name": "Python 3"
    }
  },
  "cells": [
    {
      "cell_type": "markdown",
      "metadata": {
        "id": "view-in-github",
        "colab_type": "text"
      },
      "source": [
        "<a href=\"https://colab.research.google.com/github/meghanath2052/Introducton_to_Python_Coding_Ninjas/blob/master/07_Arrays%26Lists/02_SwapAlternate.ipynb\" target=\"_parent\"><img src=\"https://colab.research.google.com/assets/colab-badge.svg\" alt=\"Open In Colab\"/></a>"
      ]
    },
    {
      "cell_type": "code",
      "metadata": {
        "id": "uI2u-YMlgVVU",
        "colab_type": "code",
        "colab": {}
      },
      "source": [
        "from sys import stdin\n",
        "\n",
        "def swapAlternate(arr, n) :\n",
        "    end = len(arr) - len(arr) % 2\n",
        "    arr[:end:2], arr[1:end:2] = arr[1:end:2], arr[:end:2]\n",
        "\n",
        "\n",
        "\n",
        "\n",
        "#Taking Input Using Fast I/O\n",
        "def takeInput() :\n",
        "    n = int(stdin.readline().rstrip())\n",
        "\n",
        "    if n == 0 :\n",
        "        return list(), 0\n",
        "\n",
        "    arr = list(map(int, stdin.readline().rstrip().split(\" \")))\n",
        "    return arr, n\n",
        "\n",
        "\n",
        "#Printing the array/list\n",
        "def printList(arr, n) :\n",
        "    for i in range(n) :\n",
        "        print(arr[i], end = \" \")\n",
        "    print()\n",
        "\n",
        "\n",
        "#main\n",
        "t = int(stdin.readline().rstrip())\n",
        "\n",
        "while t > 0 :\n",
        "    arr, n = takeInput()\n",
        "    if n != 0 :\n",
        "        swapAlternate(arr, n)\n",
        "        printList(arr, n)\n",
        "    t -= 1"
      ],
      "execution_count": null,
      "outputs": []
    }
  ]
}