{
  "nbformat": 4,
  "nbformat_minor": 0,
  "metadata": {
    "colab": {
      "name": "08_Sort01.ipynb",
      "provenance": [],
      "authorship_tag": "ABX9TyPSsnYY4XPI1OV2uuELa8Ah",
      "include_colab_link": true
    },
    "kernelspec": {
      "name": "python3",
      "display_name": "Python 3"
    }
  },
  "cells": [
    {
      "cell_type": "markdown",
      "metadata": {
        "id": "view-in-github",
        "colab_type": "text"
      },
      "source": [
        "<a href=\"https://colab.research.google.com/github/meghanath2052/Introducton_to_Python_Coding_Ninjas/blob/master/07_Arrays%26Lists/08_Sort01.ipynb\" target=\"_parent\"><img src=\"https://colab.research.google.com/assets/colab-badge.svg\" alt=\"Open In Colab\"/></a>"
      ]
    },
    {
      "cell_type": "code",
      "metadata": {
        "id": "uI2u-YMlgVVU",
        "colab_type": "code",
        "colab": {}
      },
      "source": [
        "from sys import stdin \n",
        "def sortZeroesAndOne(arr, n) : \n",
        "    nextZero = 0 \n",
        "    for i in range(n) : \n",
        "        if arr[i] == 0 :\n",
        "            temp = arr[nextZero] \n",
        "            arr[nextZero] = arr[i]\n",
        "            arr[i] = temp \n",
        "            nextZero += 1 \n",
        "def takeInput() :\n",
        "    n = int(input().strip())\n",
        "    if n == 0 : \n",
        "        return list(), 0 \n",
        "    arr = list(map(int, input().strip().split(\" \"))) \n",
        "    return arr, n\n",
        "def printList(arr, n) :\n",
        "    for i in range(n) : \n",
        "        print(arr[i], end = ' ') \n",
        "    print()\n",
        "t = int(input()) \n",
        "while t > 0 :\n",
        "    arr, n = takeInput()\n",
        "    sortZeroesAndOne(arr, n)\n",
        "    printList(arr, n) \n",
        "    print() \n",
        "    \n",
        "    t -= 1"
      ],
      "execution_count": null,
      "outputs": []
    }
  ]
}