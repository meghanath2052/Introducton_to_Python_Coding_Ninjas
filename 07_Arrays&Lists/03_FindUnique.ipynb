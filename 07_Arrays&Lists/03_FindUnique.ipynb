{
  "nbformat": 4,
  "nbformat_minor": 0,
  "metadata": {
    "colab": {
      "name": "03_FindUnique.ipynb",
      "provenance": [],
      "authorship_tag": "ABX9TyM9wt1qoyQ7uYYewcAV+z1z",
      "include_colab_link": true
    },
    "kernelspec": {
      "name": "python3",
      "display_name": "Python 3"
    }
  },
  "cells": [
    {
      "cell_type": "markdown",
      "metadata": {
        "id": "view-in-github",
        "colab_type": "text"
      },
      "source": [
        "<a href=\"https://colab.research.google.com/github/meghanath2052/Introducton_to_Python_Coding_Ninjas/blob/master/07_Arrays%26Lists/03_FindUnique.ipynb\" target=\"_parent\"><img src=\"https://colab.research.google.com/assets/colab-badge.svg\" alt=\"Open In Colab\"/></a>"
      ]
    },
    {
      "cell_type": "code",
      "metadata": {
        "id": "uI2u-YMlgVVU",
        "colab_type": "code",
        "colab": {}
      },
      "source": [
        "import sys\n",
        "\n",
        "def findUnique(arr, n) :\n",
        "    for i in range(n):\n",
        "        j = 0\n",
        "        while j < n :\n",
        "            if i != j:\n",
        "                if arr[i] == arr[j]:\n",
        "                    break\n",
        "            j = j + 1\n",
        "        if j == n:\n",
        "            return arr[i]\n",
        "\n",
        "#Taking Input Using Fast I/O\n",
        "def takeInput() :\n",
        "    n = int(sys.stdin.readline().rstrip())\n",
        "\n",
        "    if n == 0 :\n",
        "        return list(), 0\n",
        "\n",
        "    arr = list(map(int, sys.stdin.readline().rstrip().split(\" \")))\n",
        "    return arr, n\n",
        "\n",
        "\n",
        "#main\n",
        "t = int(sys.stdin.readline().rstrip())\n",
        "\n",
        "while t > 0 :\n",
        "\n",
        "    arr, n = takeInput()\n",
        "    print(findUnique(arr, n))\n",
        "\n",
        "    t -= 1"
      ],
      "execution_count": null,
      "outputs": []
    }
  ]
}