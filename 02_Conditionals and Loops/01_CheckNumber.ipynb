{
  "nbformat": 4,
  "nbformat_minor": 0,
  "metadata": {
    "colab": {
      "name": "01_CheckNumber.ipynb",
      "provenance": [],
      "authorship_tag": "ABX9TyOGsPPMwqunbBfRQ9ldDyk1",
      "include_colab_link": true
    },
    "kernelspec": {
      "name": "python3",
      "display_name": "Python 3"
    }
  },
  "cells": [
    {
      "cell_type": "markdown",
      "metadata": {
        "id": "view-in-github",
        "colab_type": "text"
      },
      "source": [
        "<a href=\"https://colab.research.google.com/github/meghanath2052/Introducton_to_Python_Coding_Ninjas/blob/master/02_Conditionals%20and%20Loops/01_CheckNumber.ipynb\" target=\"_parent\"><img src=\"https://colab.research.google.com/assets/colab-badge.svg\" alt=\"Open In Colab\"/></a>"
      ]
    },
    {
      "cell_type": "code",
      "metadata": {
        "id": "IsPw7y3YYYTX",
        "colab_type": "code",
        "colab": {
          "base_uri": "https://localhost:8080/",
          "height": 50
        },
        "outputId": "8e698454-4e05-4e59-d72e-8bfb1f127dfa"
      },
      "source": [
        "a = int(input())\n",
        "if a > 0:\n",
        "    print(\"Positive\")\n",
        "elif a < 0:\n",
        "    print(\"Negative\")\n",
        "else:\n",
        "    print(\"Zero\")"
      ],
      "execution_count": 1,
      "outputs": [
        {
          "output_type": "stream",
          "text": [
            "6\n",
            "Positive\n"
          ],
          "name": "stdout"
        }
      ]
    }
  ]
}