{
  "nbformat": 4,
  "nbformat_minor": 0,
  "metadata": {
    "colab": {
      "name": "05_Calculator.ipynb",
      "provenance": [],
      "authorship_tag": "ABX9TyPXjrxcsBX7UXvsYr+uq92f",
      "include_colab_link": true
    },
    "kernelspec": {
      "name": "python3",
      "display_name": "Python 3"
    }
  },
  "cells": [
    {
      "cell_type": "markdown",
      "metadata": {
        "id": "view-in-github",
        "colab_type": "text"
      },
      "source": [
        "<a href=\"https://colab.research.google.com/github/meghanath2052/Introducton_to_Python_Coding_Ninjas/blob/master/02_Conditionals%20and%20Loops/05_Calculator.ipynb\" target=\"_parent\"><img src=\"https://colab.research.google.com/assets/colab-badge.svg\" alt=\"Open In Colab\"/></a>"
      ]
    },
    {
      "cell_type": "code",
      "metadata": {
        "id": "1V-PQ291ciz6",
        "colab_type": "code",
        "colab": {
          "base_uri": "https://localhost:8080/",
          "height": 235
        },
        "outputId": "42a8e1bd-d63c-4708-f78a-bb89f1ff4878"
      },
      "source": [
        "i = True\n",
        "while i:\n",
        "    n = int(input())\n",
        "    if n == 1:\n",
        "        a = int(input())\n",
        "        b = int(input())\n",
        "        print(a + b)\n",
        "    elif n == 2:\n",
        "        a = int(input())\n",
        "        b = int(input())\n",
        "        print(a - b)\n",
        "    elif n == 3:\n",
        "        a = int(input())\n",
        "        b = int(input())\n",
        "        print(a * b)\n",
        "    elif n == 4:\n",
        "        a = int(input())\n",
        "        b = int(input())\n",
        "        print(a // b)\n",
        "    elif n == 5:\n",
        "        a = int(input())\n",
        "        b = int(input())\n",
        "        print(a % b)\n",
        "    elif n == 6:\n",
        "        i = False\n",
        "    else:\n",
        "        print(\"Invalid Operation\")"
      ],
      "execution_count": 1,
      "outputs": [
        {
          "output_type": "stream",
          "text": [
            "3\n",
            "1\n",
            "2\n",
            "2\n",
            "4\n",
            "4\n",
            "2\n",
            "2\n",
            "2\n",
            "1\n",
            "3\n",
            "-2\n",
            "6\n"
          ],
          "name": "stdout"
        }
      ]
    }
  ]
}