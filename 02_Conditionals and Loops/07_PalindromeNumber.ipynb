{
  "nbformat": 4,
  "nbformat_minor": 0,
  "metadata": {
    "colab": {
      "name": "07_PalindromeNumber.ipynb",
      "provenance": [],
      "authorship_tag": "ABX9TyNZ5+IL50CaqYmxerfuHjcH",
      "include_colab_link": true
    },
    "kernelspec": {
      "name": "python3",
      "display_name": "Python 3"
    }
  },
  "cells": [
    {
      "cell_type": "markdown",
      "metadata": {
        "id": "view-in-github",
        "colab_type": "text"
      },
      "source": [
        "<a href=\"https://colab.research.google.com/github/meghanath2052/Introducton_to_Python_Coding_Ninjas/blob/master/02_Conditionals%20and%20Loops/07_PalindromeNumber.ipynb\" target=\"_parent\"><img src=\"https://colab.research.google.com/assets/colab-badge.svg\" alt=\"Open In Colab\"/></a>"
      ]
    },
    {
      "cell_type": "code",
      "metadata": {
        "id": "3bPMhaGrdpeR",
        "colab_type": "code",
        "colab": {
          "base_uri": "https://localhost:8080/",
          "height": 50
        },
        "outputId": "017f7742-4bfc-4068-803b-db777cb01b24"
      },
      "source": [
        "number = int(input())\n",
        "\n",
        "reverse = 0\n",
        "temp = number\n",
        "\n",
        "while(temp > 0):\n",
        "    Reminder = temp % 10\n",
        "    reverse = (reverse * 10) + Reminder\n",
        "    temp = temp //10\n",
        " \n",
        "\n",
        "if(number == reverse):\n",
        "    print(\"true\")\n",
        "else:\n",
        "    print(\"false\")"
      ],
      "execution_count": 1,
      "outputs": [
        {
          "output_type": "stream",
          "text": [
            "123454321\n",
            "true\n"
          ],
          "name": "stdout"
        }
      ]
    }
  ]
}