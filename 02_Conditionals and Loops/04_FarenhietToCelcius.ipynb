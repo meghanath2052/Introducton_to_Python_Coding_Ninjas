{
  "nbformat": 4,
  "nbformat_minor": 0,
  "metadata": {
    "colab": {
      "name": "04_FarenhietToCelcius.ipynb",
      "provenance": [],
      "authorship_tag": "ABX9TyNyb+S4X5OjeohPaQDavLa8",
      "include_colab_link": true
    },
    "kernelspec": {
      "name": "python3",
      "display_name": "Python 3"
    }
  },
  "cells": [
    {
      "cell_type": "markdown",
      "metadata": {
        "id": "view-in-github",
        "colab_type": "text"
      },
      "source": [
        "<a href=\"https://colab.research.google.com/github/meghanath2052/Introducton_to_Python_Coding_Ninjas/blob/master/02_Conditionals%20and%20Loops/04_FarenhietToCelcius.ipynb\" target=\"_parent\"><img src=\"https://colab.research.google.com/assets/colab-badge.svg\" alt=\"Open In Colab\"/></a>"
      ]
    },
    {
      "cell_type": "code",
      "metadata": {
        "id": "T09fdbJPb8Hz",
        "colab_type": "code",
        "colab": {
          "base_uri": "https://localhost:8080/",
          "height": 168
        },
        "outputId": "e6e40118-1218-4ea9-dbb0-3e4a177180ce"
      },
      "source": [
        "start = int(input())\n",
        "end = int(input())\n",
        "step = int(input())\n",
        "\n",
        "curr_temp = start\n",
        "\n",
        "while curr_temp <= end:\n",
        "    c = 5/9 * (curr_temp-32)\n",
        "    print(curr_temp, \" \", int(c))\n",
        "    curr_temp = curr_temp+step"
      ],
      "execution_count": 1,
      "outputs": [
        {
          "output_type": "stream",
          "text": [
            "0\n",
            "100\n",
            "20\n",
            "0   -17\n",
            "20   -6\n",
            "40   4\n",
            "60   15\n",
            "80   26\n",
            "100   37\n"
          ],
          "name": "stdout"
        }
      ]
    }
  ]
}