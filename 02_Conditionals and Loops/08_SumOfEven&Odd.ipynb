{
  "nbformat": 4,
  "nbformat_minor": 0,
  "metadata": {
    "colab": {
      "name": "08_SumOfEven&Odd.ipynb",
      "provenance": [],
      "authorship_tag": "ABX9TyOgWcjRb2t5uDJ2IyVPRr32",
      "include_colab_link": true
    },
    "kernelspec": {
      "name": "python3",
      "display_name": "Python 3"
    }
  },
  "cells": [
    {
      "cell_type": "markdown",
      "metadata": {
        "id": "view-in-github",
        "colab_type": "text"
      },
      "source": [
        "<a href=\"https://colab.research.google.com/github/meghanath2052/Introducton_to_Python_Coding_Ninjas/blob/master/02_Conditionals%20and%20Loops/08_SumOfEven%26Odd.ipynb\" target=\"_parent\"><img src=\"https://colab.research.google.com/assets/colab-badge.svg\" alt=\"Open In Colab\"/></a>"
      ]
    },
    {
      "cell_type": "code",
      "metadata": {
        "id": "aEyrB6u_eFC2",
        "colab_type": "code",
        "colab": {
          "base_uri": "https://localhost:8080/",
          "height": 50
        },
        "outputId": "be229371-773e-49f5-c424-f1574b67e385"
      },
      "source": [
        "Number=int(input())\n",
        "even=0\n",
        "odd=0\n",
        "while(Number>0):\n",
        "    Reminder = Number %10\n",
        "    if(Reminder % 2 == 0):\n",
        "        even=even + Reminder\n",
        "    else:\n",
        "        odd= odd + Reminder\n",
        "    Number = Number //10\n",
        "print(even,\"\",odd)"
      ],
      "execution_count": 2,
      "outputs": [
        {
          "output_type": "stream",
          "text": [
            "10\n",
            "0  1\n"
          ],
          "name": "stdout"
        }
      ]
    }
  ]
}