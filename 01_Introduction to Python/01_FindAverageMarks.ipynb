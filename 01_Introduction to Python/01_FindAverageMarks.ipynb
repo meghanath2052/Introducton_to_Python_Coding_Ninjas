{
  "nbformat": 4,
  "nbformat_minor": 0,
  "metadata": {
    "colab": {
      "name": "01_FindAverageMarks.ipynb",
      "provenance": [],
      "authorship_tag": "ABX9TyMPIDz42+XjOFJll0S+DP0n"
    },
    "kernelspec": {
      "name": "python3",
      "display_name": "Python 3"
    }
  },
  "cells": [
    {
      "cell_type": "code",
      "metadata": {
        "id": "foA1Qmu-T9iF",
        "colab_type": "code",
        "colab": {
          "base_uri": "https://localhost:8080/",
          "height": 84
        },
        "outputId": "b30bef64-9e88-4773-938e-1764196fc95d"
      },
      "source": [
        "Test1 = int(input())\n",
        "Test2 = int(input())\n",
        "Test3 = int(input())\n",
        "Avg = (Test1 + Test2 + Test3)/3\n",
        "print(Avg)"
      ],
      "execution_count": 1,
      "outputs": [
        {
          "output_type": "stream",
          "text": [
            "3\n",
            "4\n",
            "6\n",
            "4.333333333333333\n"
          ],
          "name": "stdout"
        }
      ]
    }
  ]
}