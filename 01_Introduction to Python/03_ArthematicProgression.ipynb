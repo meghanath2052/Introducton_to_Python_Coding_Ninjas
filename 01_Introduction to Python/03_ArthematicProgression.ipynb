{
  "nbformat": 4,
  "nbformat_minor": 0,
  "metadata": {
    "colab": {
      "name": "03_ArthematicProgression.ipynb",
      "provenance": [],
      "authorship_tag": "ABX9TyNRPlgTXL9EBrMFF11jJjfn",
      "include_colab_link": true
    },
    "kernelspec": {
      "name": "python3",
      "display_name": "Python 3"
    }
  },
  "cells": [
    {
      "cell_type": "markdown",
      "metadata": {
        "id": "view-in-github",
        "colab_type": "text"
      },
      "source": [
        "<a href=\"https://colab.research.google.com/github/meghanath2052/Introducton_to_Python_Coding_Ninjas/blob/master/01_Introduction%20to%20Python/03_ArthematicProgression.ipynb\" target=\"_parent\"><img src=\"https://colab.research.google.com/assets/colab-badge.svg\" alt=\"Open In Colab\"/></a>"
      ]
    },
    {
      "cell_type": "markdown",
      "metadata": {
        "id": "o6V4N8f5V2jQ",
        "colab_type": "text"
      },
      "source": [
        "Here there is a mistake in the question itself. They are not asking to check whether the given sequence is in AP or not. So the Third entry acts as a dummy number. At the end, they are asking us to find the difference of B and A."
      ]
    },
    {
      "cell_type": "code",
      "metadata": {
        "id": "tJeYc96QVsi4",
        "colab_type": "code",
        "colab": {
          "base_uri": "https://localhost:8080/",
          "height": 84
        },
        "outputId": "87fb15d9-3fd8-41b6-9320-3c3495637a4a"
      },
      "source": [
        "a = int(input())\n",
        "b = int(input())\n",
        "c = int(input())\n",
        "print(b - a)"
      ],
      "execution_count": 1,
      "outputs": [
        {
          "output_type": "stream",
          "text": [
            "5\n",
            "4\n",
            "2\n",
            "-1\n"
          ],
          "name": "stdout"
        }
      ]
    },
    {
      "cell_type": "markdown",
      "metadata": {
        "id": "GcjIBY59WUeF",
        "colab_type": "text"
      },
      "source": [
        "Here you can see clearly that the given sequence is not in AP. But when you run this in codezen, you can clearly see that every test case pases."
      ]
    }
  ]
}