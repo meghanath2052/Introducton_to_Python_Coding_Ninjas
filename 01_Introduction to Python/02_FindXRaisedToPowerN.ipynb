{
  "nbformat": 4,
  "nbformat_minor": 0,
  "metadata": {
    "colab": {
      "name": "02_FindXRaisedToPowerN.ipynb",
      "provenance": [],
      "authorship_tag": "ABX9TyOro1Pp5kMgwvu95DhkOE2r",
      "include_colab_link": true
    },
    "kernelspec": {
      "name": "python3",
      "display_name": "Python 3"
    }
  },
  "cells": [
    {
      "cell_type": "markdown",
      "metadata": {
        "id": "view-in-github",
        "colab_type": "text"
      },
      "source": [
        "<a href=\"https://colab.research.google.com/github/meghanath2052/Introducton_to_Python_Coding_Ninjas/blob/master/01_Introduction%20to%20Python/02_FindXRaisedToPowerN.ipynb\" target=\"_parent\"><img src=\"https://colab.research.google.com/assets/colab-badge.svg\" alt=\"Open In Colab\"/></a>"
      ]
    },
    {
      "cell_type": "code",
      "metadata": {
        "id": "C8OMszi2VQS3",
        "colab_type": "code",
        "colab": {
          "base_uri": "https://localhost:8080/",
          "height": 67
        },
        "outputId": "5f0e8f7e-89c0-4d9a-b212-e4e1ca2edb4a"
      },
      "source": [
        "x = int(input())\n",
        "n = int(input())\n",
        "res = x ** n\n",
        "print(res)"
      ],
      "execution_count": null,
      "outputs": [
        {
          "output_type": "stream",
          "text": [
            "5\n",
            "2\n",
            "25\n"
          ],
          "name": "stdout"
        }
      ]
    }
  ]
}