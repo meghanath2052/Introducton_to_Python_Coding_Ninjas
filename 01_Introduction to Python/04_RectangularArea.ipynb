{
  "nbformat": 4,
  "nbformat_minor": 0,
  "metadata": {
    "colab": {
      "name": "04_RectangularArea.ipynb",
      "provenance": [],
      "authorship_tag": "ABX9TyPtpme0xXUFS+chZRtVT4gA",
      "include_colab_link": true
    },
    "kernelspec": {
      "name": "python3",
      "display_name": "Python 3"
    }
  },
  "cells": [
    {
      "cell_type": "markdown",
      "metadata": {
        "id": "view-in-github",
        "colab_type": "text"
      },
      "source": [
        "<a href=\"https://colab.research.google.com/github/meghanath2052/Introducton_to_Python_Coding_Ninjas/blob/master/01_Introduction%20to%20Python/04_RectangularArea.ipynb\" target=\"_parent\"><img src=\"https://colab.research.google.com/assets/colab-badge.svg\" alt=\"Open In Colab\"/></a>"
      ]
    },
    {
      "cell_type": "markdown",
      "metadata": {
        "id": "ATj7CbJEXPYE",
        "colab_type": "text"
      },
      "source": [
        "To solve this question, you should have a basic idea of Coordinate Geometry. \n",
        "\n",
        "According to coordinate geometry, a rectangles coordinates for general, ie if its not rotated, then they are (x1,y1), (x1,y2), (X2,y2), (x2,y1). so clearly the sides are x1-x2 and y1-y2."
      ]
    },
    {
      "cell_type": "code",
      "metadata": {
        "id": "Q9LvjAt4XKSf",
        "colab_type": "code",
        "colab": {
          "base_uri": "https://localhost:8080/",
          "height": 101
        },
        "outputId": "aad2b836-6cf8-40e7-b555-d65a2f438dd0"
      },
      "source": [
        "x1 = int(input())\n",
        "y1 = int(input())\n",
        "x2 = int(input())\n",
        "y2 = int(input())\n",
        "print((x1 - x2) * (y1 - y2))"
      ],
      "execution_count": 1,
      "outputs": [
        {
          "output_type": "stream",
          "text": [
            "1\n",
            "2\n",
            "3\n",
            "4\n",
            "4\n"
          ],
          "name": "stdout"
        }
      ]
    }
  ]
}