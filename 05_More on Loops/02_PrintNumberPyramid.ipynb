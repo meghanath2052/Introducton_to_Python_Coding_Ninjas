{
  "nbformat": 4,
  "nbformat_minor": 0,
  "metadata": {
    "colab": {
      "name": "02_PrintNumberPyramid.ipynb",
      "provenance": [],
      "authorship_tag": "ABX9TyMLaIK3clzX30y/9cBzTVxm",
      "include_colab_link": true
    },
    "kernelspec": {
      "name": "python3",
      "display_name": "Python 3"
    }
  },
  "cells": [
    {
      "cell_type": "markdown",
      "metadata": {
        "id": "view-in-github",
        "colab_type": "text"
      },
      "source": [
        "<a href=\"https://colab.research.google.com/github/meghanath2052/Introducton_to_Python_Coding_Ninjas/blob/master/05_More%20on%20Loops/02_PrintNumberPyramid.ipynb\" target=\"_parent\"><img src=\"https://colab.research.google.com/assets/colab-badge.svg\" alt=\"Open In Colab\"/></a>"
      ]
    },
    {
      "cell_type": "code",
      "metadata": {
        "id": "pX_kSXukjIfg",
        "colab_type": "code",
        "colab": {
          "base_uri": "https://localhost:8080/",
          "height": 185
        },
        "outputId": "1b970351-d14d-4eee-d60c-d2404fa4fad2"
      },
      "source": [
        "n = int(input())\n",
        "for i in range(1,n+1):\n",
        "    count = 1\n",
        "    for j in range(1,i):\n",
        "        print(\" \",end=\"\")\n",
        "        count = count + 1\n",
        "    num = i \n",
        "    for j in range(count,n+1):\n",
        "        print(num,end=\"\") \n",
        "        num = num + 1\n",
        "    print()\n",
        "for i in range(n-1,0,-1):\n",
        "    count = 1\n",
        "    for j in range(1,i):\n",
        "        print(\" \",end=\"\") \n",
        "        count = count + 1\n",
        "    num = i \n",
        "    for j in range(count,n+1): \n",
        "        print(num,end=\"\")\n",
        "        num = num + 1 \n",
        "    print()"
      ],
      "execution_count": 1,
      "outputs": [
        {
          "output_type": "stream",
          "text": [
            "5\n",
            "12345\n",
            " 2345\n",
            "  345\n",
            "   45\n",
            "    5\n",
            "   45\n",
            "  345\n",
            " 2345\n",
            "12345\n"
          ],
          "name": "stdout"
        }
      ]
    }
  ]
}