{
  "nbformat": 4,
  "nbformat_minor": 0,
  "metadata": {
    "colab": {
      "name": "01_BinaryPattern.ipynb",
      "provenance": [],
      "authorship_tag": "ABX9TyOmLrapF/nib/T1PkZ1sZ2t",
      "include_colab_link": true
    },
    "kernelspec": {
      "name": "python3",
      "display_name": "Python 3"
    }
  },
  "cells": [
    {
      "cell_type": "markdown",
      "metadata": {
        "id": "view-in-github",
        "colab_type": "text"
      },
      "source": [
        "<a href=\"https://colab.research.google.com/github/meghanath2052/Introducton_to_Python_Coding_Ninjas/blob/master/05_More%20on%20Loops/01_BinaryPattern.ipynb\" target=\"_parent\"><img src=\"https://colab.research.google.com/assets/colab-badge.svg\" alt=\"Open In Colab\"/></a>"
      ]
    },
    {
      "cell_type": "code",
      "metadata": {
        "id": "pX_kSXukjIfg",
        "colab_type": "code",
        "colab": {
          "base_uri": "https://localhost:8080/",
          "height": 202
        },
        "outputId": "e18b6ec0-7e7a-4282-ecc5-e4f3f8a3a391"
      },
      "source": [
        "n = int(input())\n",
        "i = 1\n",
        "for i in range (1, n + 1, 1):\n",
        "    if i % 2 == 0:\n",
        "        j = 1\n",
        "        for j in range (1, n - i + 2, 1):\n",
        "            print(0, end = \"\")\n",
        "    else:\n",
        "        j = 1\n",
        "        for j in range (1, n - i + 2, 1):\n",
        "            print(1, end = \"\")\n",
        "    print()"
      ],
      "execution_count": 1,
      "outputs": [
        {
          "output_type": "stream",
          "text": [
            "10\n",
            "1111111111\n",
            "000000000\n",
            "11111111\n",
            "0000000\n",
            "111111\n",
            "00000\n",
            "1111\n",
            "000\n",
            "11\n",
            "0\n"
          ],
          "name": "stdout"
        }
      ]
    }
  ]
}