{
  "nbformat": 4,
  "nbformat_minor": 0,
  "metadata": {
    "colab": {
      "name": "03_DiamondOfStars.ipynb",
      "provenance": [],
      "authorship_tag": "ABX9TyOWwJuW8yh3fUFRrx2zRE46",
      "include_colab_link": true
    },
    "kernelspec": {
      "name": "python3",
      "display_name": "Python 3"
    }
  },
  "cells": [
    {
      "cell_type": "markdown",
      "metadata": {
        "id": "view-in-github",
        "colab_type": "text"
      },
      "source": [
        "<a href=\"https://colab.research.google.com/github/meghanath2052/Introducton_to_Python_Coding_Ninjas/blob/master/05_More%20on%20Loops/03_DiamondOfStars.ipynb\" target=\"_parent\"><img src=\"https://colab.research.google.com/assets/colab-badge.svg\" alt=\"Open In Colab\"/></a>"
      ]
    },
    {
      "cell_type": "code",
      "metadata": {
        "id": "pX_kSXukjIfg",
        "colab_type": "code",
        "colab": {
          "base_uri": "https://localhost:8080/",
          "height": 118
        },
        "outputId": "fb034cb4-c4b8-4d70-ad83-912f31c143aa"
      },
      "source": [
        "## Read input as specified in the question.\n",
        "## Print output as specified in the question.\n",
        "n=int(input())\n",
        "n1=(n//2)+1\n",
        "for i in range(1,n1+1):\n",
        "    for j in range(1,n1-i+1):\n",
        "        print(\" \",end=\"\")\n",
        "    for j in range(1,2*i):\n",
        "        print(\"*\",end=\"\")\n",
        "    print()\n",
        "n2=n-n1\n",
        "for i in range(n2,0,-1):\n",
        "    for j in range(1,n1-i+1):\n",
        "        print(\" \",end=\"\")\n",
        "    for j in range(1,2*i):\n",
        "        print(\"*\",end=\"\")\n",
        "    print()"
      ],
      "execution_count": 1,
      "outputs": [
        {
          "output_type": "stream",
          "text": [
            "5\n",
            "  *\n",
            " ***\n",
            "*****\n",
            " ***\n",
            "  *\n"
          ],
          "name": "stdout"
        }
      ]
    }
  ]
}