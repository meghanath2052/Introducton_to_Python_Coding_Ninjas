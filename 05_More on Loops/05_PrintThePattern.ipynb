{
  "nbformat": 4,
  "nbformat_minor": 0,
  "metadata": {
    "colab": {
      "name": "05_PrintThePattern.ipynb",
      "provenance": [],
      "authorship_tag": "ABX9TyPJvYUh52tBRzglylKrP8jd",
      "include_colab_link": true
    },
    "kernelspec": {
      "name": "python3",
      "display_name": "Python 3"
    }
  },
  "cells": [
    {
      "cell_type": "markdown",
      "metadata": {
        "id": "view-in-github",
        "colab_type": "text"
      },
      "source": [
        "<a href=\"https://colab.research.google.com/github/meghanath2052/Introducton_to_Python_Coding_Ninjas/blob/master/05_More%20on%20Loops/05_PrintThePattern.ipynb\" target=\"_parent\"><img src=\"https://colab.research.google.com/assets/colab-badge.svg\" alt=\"Open In Colab\"/></a>"
      ]
    },
    {
      "cell_type": "code",
      "metadata": {
        "id": "pX_kSXukjIfg",
        "colab_type": "code",
        "colab": {
          "base_uri": "https://localhost:8080/",
          "height": 118
        },
        "outputId": "26729d90-d7ab-4ce6-bf3c-331a10c3a678"
      },
      "source": [
        "n = int(input()) \n",
        "startValue = 1\n",
        "for i in range(1,n+1): \n",
        "    for j in range(startValue,startValue + n):\n",
        "        print(j,end=\" \")\n",
        "    print()\n",
        "    if(i==((n+1)//2)):\n",
        "        if((n%2)!=0):\n",
        "            startValue = n*(n-2)+1\n",
        "        else:\n",
        "            startValue = n*(n-1) + 1\n",
        "    elif((i>(n+1)//2)):\n",
        "        startValue = startValue - 2*n\n",
        "    else:\n",
        "        startValue = startValue + 2*n"
      ],
      "execution_count": 1,
      "outputs": [
        {
          "output_type": "stream",
          "text": [
            "5\n",
            "1 2 3 4 5 \n",
            "11 12 13 14 15 \n",
            "21 22 23 24 25 \n",
            "16 17 18 19 20 \n",
            "6 7 8 9 10 \n"
          ],
          "name": "stdout"
        }
      ]
    }
  ]
}