{
  "nbformat": 4,
  "nbformat_minor": 0,
  "metadata": {
    "colab": {
      "name": "04_RectangularNumbers.ipynb",
      "provenance": [],
      "authorship_tag": "ABX9TyN5dfx8kZo03o/k75GPZRWn",
      "include_colab_link": true
    },
    "kernelspec": {
      "name": "python3",
      "display_name": "Python 3"
    }
  },
  "cells": [
    {
      "cell_type": "markdown",
      "metadata": {
        "id": "view-in-github",
        "colab_type": "text"
      },
      "source": [
        "<a href=\"https://colab.research.google.com/github/meghanath2052/Introducton_to_Python_Coding_Ninjas/blob/master/05_More%20on%20Loops/04_RectangularNumbers.ipynb\" target=\"_parent\"><img src=\"https://colab.research.google.com/assets/colab-badge.svg\" alt=\"Open In Colab\"/></a>"
      ]
    },
    {
      "cell_type": "code",
      "metadata": {
        "id": "pX_kSXukjIfg",
        "colab_type": "code",
        "colab": {
          "base_uri": "https://localhost:8080/",
          "height": 185
        },
        "outputId": "afb9c75d-0846-43b8-f020-9ff477588786"
      },
      "source": [
        "## Read input as specified in the question.\n",
        "## Print output as specified in the question.\n",
        "n = int(input())\n",
        "for i in range(1,n+1):\n",
        "    temp = n\n",
        "    for j in range(1,i):\n",
        "        print(temp,end=\"\")\n",
        "        temp = temp -1\n",
        "    for j in range(1,(2*n) - (2*i) + 2):\n",
        "        print(n-i+1,end=\"\")\n",
        "    for j in range(1,i):\n",
        "        temp = temp+1\n",
        "        print(temp,end=\"\")\n",
        "    print()\n",
        "for i in range(n-1,0,-1):\n",
        "    temp = n\n",
        "    for j in range(1,i):\n",
        "        print(temp,end=\"\")\n",
        "        temp = temp - 1 \n",
        "    for j in range(1,(2*n) - (2*i) + 2):\n",
        "        print(n-i+1,end=\"\")\n",
        "    for j in range(1,i):\n",
        "        temp = temp+1\n",
        "        print(temp,end=\"\")\n",
        "    print()"
      ],
      "execution_count": 1,
      "outputs": [
        {
          "output_type": "stream",
          "text": [
            "5\n",
            "555555555\n",
            "544444445\n",
            "543333345\n",
            "543222345\n",
            "543212345\n",
            "543222345\n",
            "543333345\n",
            "544444445\n",
            "555555555\n"
          ],
          "name": "stdout"
        }
      ]
    }
  ]
}